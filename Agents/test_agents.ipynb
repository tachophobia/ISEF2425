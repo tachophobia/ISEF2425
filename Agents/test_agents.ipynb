{
 "cells": [
  {
   "cell_type": "code",
   "execution_count": 1,
   "metadata": {},
   "outputs": [],
   "source": [
    "from framework import StandardScaler\n",
    "from dql import DQLAgent, DQLTrainer\n",
    "from ddpg import DDPGAgent, DDPGTrainer, LichtenbergAgent\n",
    "\n",
    "from PIL import Image\n",
    "import gym\n",
    "import numpy as np\n",
    "\n",
    "def to_gif(matrices, filepath, duration=25):\n",
    "    frames = []\n",
    "    for matrix in matrices:\n",
    "        image = Image.fromarray(matrix)\n",
    "        frames.append(image)\n",
    "    frames[0].save(filepath, save_all=True, append_images=frames[1:], duration=duration, loop=0)"
   ]
  },
  {
   "cell_type": "markdown",
   "metadata": {},
   "source": [
    "## Submarine"
   ]
  },
  {
   "cell_type": "code",
   "execution_count": 2,
   "metadata": {},
   "outputs": [],
   "source": [
    "from environments.submarine import ContinuousSubmarine\n",
    "import time\n",
    "\n",
    "episodes = []\n",
    "time_taken = []\n",
    "env = ContinuousSubmarine(delta_t=1, randomize=False) \n",
    "state_dim = env.observation_space.shape[0]\n",
    "action_dim = env.action_space.shape[0]\n",
    "featurizer = StandardScaler(state_dim, learn=False)\n",
    "featurizer.mean = np.array([ 7.73739964, 11.54841878,  1.6379028 ,  1.92430292])\n",
    "featurizer.var = np.array([ 580.12531577, 1460.05771442,   36.57866531,   37.08183991])\n",
    "# for training comparison stability, ensure that the featurizer scaling is constant"
   ]
  },
  {
   "cell_type": "code",
   "execution_count": null,
   "metadata": {},
   "outputs": [],
   "source": [
    "for _ in range(1):\n",
    "    # agent = DDPGAgent(state_dim, action_dim, batch_size=32, tau=0.05)\n",
    "    agent = LichtenbergAgent(state_dim, action_dim, \"figure2d.npy\", batch_size=32, tau=0.1, n_iter=3, pop=15)\n",
    "\n",
    "    trainer = DDPGTrainer(env, agent, featurizer, until_convergence=True, convergence_reward=100)\n",
    "    start = time.perf_counter()\n",
    "    trainer.train(episodes=10000)\n",
    "    while not trainer.has_converged(100):\n",
    "        trainer.train(episodes=100)\n",
    "    episodes.append(len(trainer.episode_rewards))\n",
    "    time_taken.append(int(round(time.perf_counter() - start)))\n",
    "    # print(episodes[-1], time_taken[-1])\n",
    "    # print(trainer.episode_rewards, trainer.actor_losses, trainer.critic_losses)\n",
    "    # trainer.plot_losses()\n",
    "    # trainer.plot_rewards()"
   ]
  },
  {
   "cell_type": "markdown",
   "metadata": {},
   "source": [
    "## Parking"
   ]
  },
  {
   "cell_type": "code",
   "execution_count": null,
   "metadata": {},
   "outputs": [],
   "source": [
    "import torch\n",
    "class ParkingFeaturizer(StandardScaler):\n",
    "    def __init__(self):\n",
    "        super().__init__(19)\n",
    "    \n",
    "    def transform_state(self, state, info=None):\n",
    "        speed = info['speed'] if info else 0.0\n",
    "        state = np.concat([state['observation'], state['achieved_goal'], state['desired_goal'], np.array([speed])])\n",
    "        return torch.tensor(state, dtype=torch.float32).unsqueeze(0)\n"
   ]
  },
  {
   "cell_type": "code",
   "execution_count": null,
   "metadata": {},
   "outputs": [],
   "source": [
    "import highway_env.envs.parking_env as parking_env\n",
    "\n",
    "env = parking_env.ParkingEnv({\n",
    "    \"observation\": {\n",
    "        \"type\": \"KinematicsGoal\",\n",
    "        \"features\": ['x', 'y', 'vx', 'vy', 'cos_h', 'sin_h'],\n",
    "        \"scales\": [100, 100, 5, 5, 1, 1],\n",
    "        \"normalize\": True\n",
    "    },\n",
    "    \"action\": {\n",
    "        \"type\": \"ContinuousAction\"\n",
    "    },\n",
    "    \"simulation_frequency\": 15,\n",
    "    \"policy_frequency\": 3,\n",
    "    \"screen_width\": 600,\n",
    "    \"screen_height\": 300,\n",
    "    \"centering_position\": [0.5, 0.5],\n",
    "    \"scaling\": 7,\n",
    "    \"show_trajectories\": False,\n",
    "    \"render_agent\": True,\n",
    "    \"offscreen_rendering\": True\n",
    "})\n",
    "env.render_mode = 'rgb_array'\n",
    "featurizer = ParkingFeaturizer()\n",
    "agent = LichtenbergAgent(19, 2, \"figure2d.npy\", hidden_layers=3, tau=0.05, batch_size=64, n_iter=3, pop=15)\n",
    "trainer = DDPGTrainer(env, agent, featurizer)"
   ]
  },
  {
   "cell_type": "code",
   "execution_count": null,
   "metadata": {},
   "outputs": [],
   "source": [
    "trainer.train(episodes=10000)\n",
    "# trainer.save()"
   ]
  },
  {
   "cell_type": "markdown",
   "metadata": {},
   "source": [
    "## Inverted Pendulum"
   ]
  },
  {
   "cell_type": "code",
   "execution_count": 12,
   "metadata": {},
   "outputs": [],
   "source": [
    "import torch\n",
    "class NoisyFeaturizer(StandardScaler):\n",
    "    def __init__(self, pct_error=0.0):\n",
    "        super().__init__(8)\n",
    "        self.noise = pct_error / 2.0\n",
    "    \n",
    "    def transform_state(self, state, info=None):\n",
    "        state = state[:-3] # ignore the constraint forces\n",
    "\n",
    "        # add noise before normalization\n",
    "        noise = np.random.normal(0, self.noise, state.shape)\n",
    "\n",
    "        # propagate error equally to the derived features\n",
    "        angles = np.arcsin(state[1:3])\n",
    "        angles_with_error = np.arcsin(self.var[1:3]) * noise[1:3] + angles\n",
    "        state[1:3] = np.sin(angles_with_error)\n",
    "        state[3:5] = np.cos(angles_with_error)\n",
    "        noise[1:5] = 0.0\n",
    "\n",
    "        state_with_error = noise * self.var + state\n",
    "        normalized_state = (state_with_error - self.mean) / np.sqrt(self.var + 1e-8)\n",
    "\n",
    "        return torch.tensor(normalized_state, dtype=torch.float32).unsqueeze(0)"
   ]
  },
  {
   "cell_type": "code",
   "execution_count": 13,
   "metadata": {},
   "outputs": [],
   "source": [
    "env = gym.make('InvertedDoublePendulum-v4', render_mode='rgb_array')\n",
    "state_dim = env.observation_space.shape[0]\n",
    "action_dim = env.action_space.shape[0]\n",
    "agent = DDPGAgent(state_dim, action_dim, hidden_layers=2, tau=0.01, batch_size=256)\n",
    "\n",
    "featurizer = NoisyFeaturizer()\n",
    "# experimentally approximated mean and standard deviation of state vector\n",
    "featurizer.mean = np.array([-0.0537724 , # position of the cart along the linear surface (m)\n",
    "                             0.00854607, # sine of the angle between the cart and the first pole\n",
    "                            -0.0020691 , # sine of the angle between the two poles\n",
    "                             0.97681748, # cosine of the angle between the cart and the first pole\n",
    "                             0.97418304, # cosine of the angle between the two poles\n",
    "                             0.00404627, # velocity of the cart (m/s)\n",
    "                             0.03138314, # angular velocity of the angle between the cart and the first pole (rad/s)\n",
    "                            -0.03641539, # angular velocity of the angle between the two poles (rad/s)\n",
    "                            -0.0363062 , # constraint force - 1 (N)\n",
    "                             0.        , # constraint force - 2 (N)\n",
    "                             0.          # constraint force - 3 (N)\n",
    "                             ])[:-3]\n",
    "featurizer.var = np.array([4.08496608e-02, 9.94629836e-02, 1.39189335e-01, 7.58616097e-03,\n",
    "                           1.25376890e-02, 6.61337497e+00, 2.03311682e+01, 1.82406234e+01,\n",
    "                           3.15706362e-02, 0.00000000e+00, 0.00000000e+00])[:-3]"
   ]
  },
  {
   "cell_type": "code",
   "execution_count": 37,
   "metadata": {},
   "outputs": [
    {
     "name": "stderr",
     "output_type": "stream",
     "text": [
      " 23%|██▎       | 2300/10000 [01:03<03:32, 36.30it/s]"
     ]
    },
    {
     "name": "stdout",
     "output_type": "stream",
     "text": [
      "Converged at episode 2300\n"
     ]
    },
    {
     "name": "stderr",
     "output_type": "stream",
     "text": [
      "\n",
      " 30%|███       | 3000/10000 [01:58<04:37, 25.25it/s]"
     ]
    },
    {
     "name": "stdout",
     "output_type": "stream",
     "text": [
      "Converged at episode 3000\n"
     ]
    },
    {
     "name": "stderr",
     "output_type": "stream",
     "text": [
      "\n",
      "100%|██████████| 10000/10000 [02:15<00:00, 73.91it/s]\n",
      " 59%|█████▉    | 5900/10000 [02:43<01:53, 36.09it/s]"
     ]
    },
    {
     "name": "stdout",
     "output_type": "stream",
     "text": [
      "Converged at episode 5900\n"
     ]
    },
    {
     "name": "stderr",
     "output_type": "stream",
     "text": [
      "\n",
      " 28%|██▊       | 2800/10000 [01:57<05:01, 23.89it/s]"
     ]
    },
    {
     "name": "stdout",
     "output_type": "stream",
     "text": [
      "Converged at episode 2800\n"
     ]
    },
    {
     "name": "stderr",
     "output_type": "stream",
     "text": [
      "\n",
      " 71%|███████   | 7100/10000 [06:19<02:35, 18.71it/s]"
     ]
    },
    {
     "name": "stdout",
     "output_type": "stream",
     "text": [
      "Converged at episode 7100\n"
     ]
    },
    {
     "name": "stderr",
     "output_type": "stream",
     "text": [
      "\n",
      " 61%|██████    | 6100/10000 [03:28<02:13, 29.26it/s]"
     ]
    },
    {
     "name": "stdout",
     "output_type": "stream",
     "text": [
      "Converged at episode 6100\n"
     ]
    },
    {
     "name": "stderr",
     "output_type": "stream",
     "text": [
      "\n",
      " 53%|█████▎    | 5300/10000 [04:30<03:59, 19.61it/s]"
     ]
    },
    {
     "name": "stdout",
     "output_type": "stream",
     "text": [
      "Converged at episode 5300\n"
     ]
    },
    {
     "name": "stderr",
     "output_type": "stream",
     "text": [
      "\n",
      " 74%|███████▍  | 7400/10000 [03:46<01:19, 32.62it/s]"
     ]
    },
    {
     "name": "stdout",
     "output_type": "stream",
     "text": [
      "Converged at episode 7400\n"
     ]
    },
    {
     "name": "stderr",
     "output_type": "stream",
     "text": [
      "\n",
      " 53%|█████▎    | 5300/10000 [03:05<02:44, 28.51it/s]"
     ]
    },
    {
     "name": "stdout",
     "output_type": "stream",
     "text": [
      "Converged at episode 5300\n"
     ]
    },
    {
     "name": "stderr",
     "output_type": "stream",
     "text": [
      "\n",
      " 62%|██████▏   | 6200/10000 [03:41<02:15, 28.04it/s]"
     ]
    },
    {
     "name": "stdout",
     "output_type": "stream",
     "text": [
      "Converged at episode 6200\n"
     ]
    },
    {
     "name": "stderr",
     "output_type": "stream",
     "text": [
      "\n",
      " 52%|█████▏    | 5200/10000 [04:22<04:02, 19.79it/s]"
     ]
    },
    {
     "name": "stdout",
     "output_type": "stream",
     "text": [
      "Converged at episode 5200\n"
     ]
    },
    {
     "name": "stderr",
     "output_type": "stream",
     "text": [
      "\n",
      " 60%|██████    | 6000/10000 [03:35<02:23, 27.90it/s]"
     ]
    },
    {
     "name": "stdout",
     "output_type": "stream",
     "text": [
      "Converged at episode 6000\n"
     ]
    },
    {
     "name": "stderr",
     "output_type": "stream",
     "text": [
      "\n",
      "100%|██████████| 10000/10000 [06:50<00:00, 24.36it/s]\n",
      "100%|██████████| 10000/10000 [07:09<00:00, 23.27it/s]\n",
      " 50%|█████     | 5000/10000 [04:11<04:11, 19.84it/s]"
     ]
    },
    {
     "name": "stdout",
     "output_type": "stream",
     "text": [
      "Converged at episode 5000\n"
     ]
    },
    {
     "name": "stderr",
     "output_type": "stream",
     "text": [
      "\n",
      " 78%|███████▊  | 7800/10000 [05:52<01:39, 22.15it/s]"
     ]
    },
    {
     "name": "stdout",
     "output_type": "stream",
     "text": [
      "Converged at episode 7800\n"
     ]
    },
    {
     "name": "stderr",
     "output_type": "stream",
     "text": [
      "\n",
      "100%|██████████| 10000/10000 [07:04<00:00, 23.58it/s]\n",
      "100%|██████████| 10000/10000 [07:01<00:00, 23.70it/s]\n",
      "100%|██████████| 10000/10000 [06:54<00:00, 24.13it/s]\n",
      "100%|██████████| 10000/10000 [04:18<00:00, 38.74it/s]\n",
      "100%|██████████| 10000/10000 [06:33<00:00, 25.41it/s]\n",
      "100%|██████████| 10000/10000 [07:26<00:00, 22.37it/s]\n",
      "100%|██████████| 10000/10000 [08:06<00:00, 20.57it/s]\n",
      "100%|██████████| 10000/10000 [06:48<00:00, 24.48it/s]\n",
      "100%|██████████| 10000/10000 [06:57<00:00, 23.93it/s]\n",
      "100%|██████████| 10000/10000 [07:47<00:00, 21.40it/s]\n",
      "100%|██████████| 10000/10000 [03:55<00:00, 42.54it/s]\n",
      "100%|██████████| 10000/10000 [05:59<00:00, 27.85it/s]\n",
      "100%|██████████| 10000/10000 [01:58<00:00, 84.18it/s]\n",
      "100%|██████████| 10000/10000 [06:36<00:00, 25.25it/s]\n",
      "100%|██████████| 10000/10000 [05:48<00:00, 28.69it/s]\n",
      "100%|██████████| 10000/10000 [05:21<00:00, 31.10it/s]\n",
      "100%|██████████| 10000/10000 [06:03<00:00, 27.48it/s]\n",
      "100%|██████████| 10000/10000 [04:40<00:00, 35.64it/s]\n",
      "100%|██████████| 10000/10000 [05:43<00:00, 29.15it/s]\n",
      "100%|██████████| 10000/10000 [05:22<00:00, 31.01it/s]\n",
      "100%|██████████| 10000/10000 [05:49<00:00, 28.61it/s]\n",
      "100%|██████████| 10000/10000 [05:09<00:00, 32.33it/s]\n",
      "100%|██████████| 10000/10000 [04:58<00:00, 33.50it/s]\n",
      "100%|██████████| 10000/10000 [04:44<00:00, 35.10it/s]\n",
      "100%|██████████| 10000/10000 [05:07<00:00, 32.52it/s]\n",
      "100%|██████████| 10000/10000 [05:39<00:00, 29.49it/s]\n",
      "100%|██████████| 10000/10000 [05:54<00:00, 28.20it/s]\n",
      "100%|██████████| 10000/10000 [05:39<00:00, 29.44it/s]\n",
      "100%|██████████| 10000/10000 [05:28<00:00, 30.40it/s]\n",
      "100%|██████████| 10000/10000 [05:01<00:00, 33.19it/s]\n",
      "100%|██████████| 10000/10000 [05:00<00:00, 33.29it/s]\n",
      "100%|██████████| 10000/10000 [05:21<00:00, 31.11it/s]\n",
      "100%|██████████| 10000/10000 [05:14<00:00, 31.80it/s]\n",
      "100%|██████████| 10000/10000 [04:44<00:00, 35.14it/s]\n",
      "100%|██████████| 10000/10000 [05:20<00:00, 31.24it/s]\n",
      "100%|██████████| 10000/10000 [04:17<00:00, 38.79it/s]\n",
      "100%|██████████| 10000/10000 [05:09<00:00, 32.28it/s]\n",
      "100%|██████████| 10000/10000 [02:03<00:00, 80.80it/s]\n",
      "100%|██████████| 10000/10000 [05:17<00:00, 31.50it/s]\n",
      "100%|██████████| 10000/10000 [05:25<00:00, 30.75it/s]\n",
      "100%|██████████| 10000/10000 [05:00<00:00, 33.29it/s]\n",
      "100%|██████████| 10000/10000 [05:00<00:00, 33.29it/s]\n",
      "100%|██████████| 10000/10000 [05:19<00:00, 31.30it/s]\n",
      "100%|██████████| 10000/10000 [04:51<00:00, 34.36it/s]\n",
      "100%|██████████| 10000/10000 [04:51<00:00, 34.25it/s]\n",
      "100%|██████████| 10000/10000 [04:57<00:00, 33.63it/s]\n",
      "100%|██████████| 10000/10000 [05:01<00:00, 33.12it/s]\n",
      "100%|██████████| 10000/10000 [05:15<00:00, 31.67it/s]\n",
      "100%|██████████| 10000/10000 [04:58<00:00, 33.55it/s]\n",
      "100%|██████████| 10000/10000 [05:01<00:00, 33.13it/s]\n",
      "100%|██████████| 10000/10000 [04:38<00:00, 35.93it/s]\n",
      "100%|██████████| 10000/10000 [05:00<00:00, 33.28it/s]\n",
      "100%|██████████| 10000/10000 [04:58<00:00, 33.48it/s]\n",
      "100%|██████████| 10000/10000 [01:58<00:00, 84.34it/s]\n",
      "100%|██████████| 10000/10000 [04:46<00:00, 34.89it/s]\n",
      "100%|██████████| 10000/10000 [01:58<00:00, 84.19it/s]\n",
      "100%|██████████| 10000/10000 [04:31<00:00, 36.87it/s]\n",
      "100%|██████████| 10000/10000 [04:40<00:00, 35.63it/s]\n",
      "100%|██████████| 10000/10000 [04:55<00:00, 33.88it/s]\n",
      "100%|██████████| 10000/10000 [02:43<00:00, 61.15it/s]\n",
      "100%|██████████| 10000/10000 [04:42<00:00, 35.38it/s]\n",
      "100%|██████████| 10000/10000 [04:23<00:00, 38.00it/s]\n",
      "100%|██████████| 10000/10000 [04:45<00:00, 35.04it/s]\n",
      " 42%|████▏     | 4156/10000 [01:25<02:00, 48.41it/s]\n"
     ]
    },
    {
     "ename": "KeyboardInterrupt",
     "evalue": "",
     "output_type": "error",
     "traceback": [
      "\u001b[0;31m---------------------------------------------------------------------------\u001b[0m",
      "\u001b[0;31mKeyboardInterrupt\u001b[0m                         Traceback (most recent call last)",
      "\u001b[0;32m/tmp/ipykernel_166847/2395388819.py\u001b[0m in \u001b[0;36m<module>\u001b[0;34m\u001b[0m\n\u001b[1;32m     10\u001b[0m         \u001b[0mfeaturizer\u001b[0m\u001b[0;34m.\u001b[0m\u001b[0mnoise\u001b[0m \u001b[0;34m=\u001b[0m \u001b[0mpct_error\u001b[0m \u001b[0;34m/\u001b[0m \u001b[0;36m2.0\u001b[0m\u001b[0;34m\u001b[0m\u001b[0;34m\u001b[0m\u001b[0m\n\u001b[1;32m     11\u001b[0m         \u001b[0mtrainer\u001b[0m \u001b[0;34m=\u001b[0m \u001b[0mDDPGTrainer\u001b[0m\u001b[0;34m(\u001b[0m\u001b[0menv\u001b[0m\u001b[0;34m,\u001b[0m \u001b[0magent\u001b[0m\u001b[0;34m,\u001b[0m \u001b[0mfeaturizer\u001b[0m\u001b[0;34m,\u001b[0m \u001b[0muntil_convergence\u001b[0m\u001b[0;34m=\u001b[0m\u001b[0;32mTrue\u001b[0m\u001b[0;34m,\u001b[0m \u001b[0mconvergence_reward\u001b[0m\u001b[0;34m=\u001b[0m\u001b[0;36m8000\u001b[0m\u001b[0;34m)\u001b[0m\u001b[0;34m\u001b[0m\u001b[0;34m\u001b[0m\u001b[0m\n\u001b[0;32m---> 12\u001b[0;31m         \u001b[0mtrainer\u001b[0m\u001b[0;34m.\u001b[0m\u001b[0mtrain\u001b[0m\u001b[0;34m(\u001b[0m\u001b[0mepisodes\u001b[0m\u001b[0;34m=\u001b[0m\u001b[0;36m10000\u001b[0m\u001b[0;34m)\u001b[0m\u001b[0;34m\u001b[0m\u001b[0;34m\u001b[0m\u001b[0m\n\u001b[0m\u001b[1;32m     13\u001b[0m         \u001b[0mrewards\u001b[0m \u001b[0;34m=\u001b[0m \u001b[0mnp\u001b[0m\u001b[0;34m.\u001b[0m\u001b[0marray\u001b[0m\u001b[0;34m(\u001b[0m\u001b[0;34m[\u001b[0m\u001b[0mtrainer\u001b[0m\u001b[0;34m.\u001b[0m\u001b[0mrun_episode\u001b[0m\u001b[0;34m(\u001b[0m\u001b[0;32mFalse\u001b[0m\u001b[0;34m)\u001b[0m\u001b[0;34m[\u001b[0m\u001b[0;34m'reward'\u001b[0m\u001b[0;34m]\u001b[0m \u001b[0;32mfor\u001b[0m \u001b[0m_\u001b[0m \u001b[0;32min\u001b[0m \u001b[0mrange\u001b[0m\u001b[0;34m(\u001b[0m\u001b[0mn\u001b[0m\u001b[0;34m)\u001b[0m\u001b[0;34m]\u001b[0m\u001b[0;34m)\u001b[0m\u001b[0;34m\u001b[0m\u001b[0;34m\u001b[0m\u001b[0m\n\u001b[1;32m     14\u001b[0m         \u001b[0mavg_rewards\u001b[0m\u001b[0;34m.\u001b[0m\u001b[0mappend\u001b[0m\u001b[0;34m(\u001b[0m\u001b[0mnp\u001b[0m\u001b[0;34m.\u001b[0m\u001b[0mmean\u001b[0m\u001b[0;34m(\u001b[0m\u001b[0mrewards\u001b[0m\u001b[0;34m)\u001b[0m\u001b[0;34m)\u001b[0m\u001b[0;34m\u001b[0m\u001b[0;34m\u001b[0m\u001b[0m\n",
      "\u001b[0;32m~/Documents/ISEF2425/Agents/ddpg.py\u001b[0m in \u001b[0;36mtrain\u001b[0;34m(self, episodes)\u001b[0m\n\u001b[1;32m    164\u001b[0m                 \u001b[0maction\u001b[0m \u001b[0;34m=\u001b[0m \u001b[0mself\u001b[0m\u001b[0;34m.\u001b[0m\u001b[0magent\u001b[0m\u001b[0;34m.\u001b[0m\u001b[0mact\u001b[0m\u001b[0;34m(\u001b[0m\u001b[0mstate\u001b[0m\u001b[0;34m,\u001b[0m \u001b[0mexplore\u001b[0m\u001b[0;34m=\u001b[0m\u001b[0;32mTrue\u001b[0m\u001b[0;34m)\u001b[0m\u001b[0;34m\u001b[0m\u001b[0;34m\u001b[0m\u001b[0m\n\u001b[1;32m    165\u001b[0m \u001b[0;34m\u001b[0m\u001b[0m\n\u001b[0;32m--> 166\u001b[0;31m                 \u001b[0mnext_state\u001b[0m\u001b[0;34m,\u001b[0m \u001b[0mreward\u001b[0m\u001b[0;34m,\u001b[0m \u001b[0mterminated\u001b[0m\u001b[0;34m,\u001b[0m \u001b[0mtruncated\u001b[0m\u001b[0;34m,\u001b[0m \u001b[0m_\u001b[0m \u001b[0;34m=\u001b[0m \u001b[0mself\u001b[0m\u001b[0;34m.\u001b[0m\u001b[0menv\u001b[0m\u001b[0;34m.\u001b[0m\u001b[0mstep\u001b[0m\u001b[0;34m(\u001b[0m\u001b[0mself\u001b[0m\u001b[0;34m.\u001b[0m\u001b[0mfeaturizer\u001b[0m\u001b[0;34m.\u001b[0m\u001b[0mtransform_action\u001b[0m\u001b[0;34m(\u001b[0m\u001b[0maction\u001b[0m\u001b[0;34m,\u001b[0m \u001b[0mself\u001b[0m\u001b[0;34m.\u001b[0m\u001b[0menv\u001b[0m\u001b[0;34m.\u001b[0m\u001b[0maction_space\u001b[0m\u001b[0;34m.\u001b[0m\u001b[0mlow\u001b[0m\u001b[0;34m,\u001b[0m \u001b[0mself\u001b[0m\u001b[0;34m.\u001b[0m\u001b[0menv\u001b[0m\u001b[0;34m.\u001b[0m\u001b[0maction_space\u001b[0m\u001b[0;34m.\u001b[0m\u001b[0mhigh\u001b[0m\u001b[0;34m)\u001b[0m\u001b[0;34m)\u001b[0m\u001b[0;34m\u001b[0m\u001b[0;34m\u001b[0m\u001b[0m\n\u001b[0m\u001b[1;32m    167\u001b[0m \u001b[0;34m\u001b[0m\u001b[0m\n\u001b[1;32m    168\u001b[0m                 \u001b[0mdone\u001b[0m \u001b[0;34m=\u001b[0m \u001b[0mterminated\u001b[0m \u001b[0;32mor\u001b[0m \u001b[0mtruncated\u001b[0m\u001b[0;34m\u001b[0m\u001b[0;34m\u001b[0m\u001b[0m\n",
      "\u001b[0;32m~/anaconda3/lib/python3.9/site-packages/gym/wrappers/time_limit.py\u001b[0m in \u001b[0;36mstep\u001b[0;34m(self, action)\u001b[0m\n\u001b[1;32m     48\u001b[0m \u001b[0;34m\u001b[0m\u001b[0m\n\u001b[1;32m     49\u001b[0m         \"\"\"\n\u001b[0;32m---> 50\u001b[0;31m         \u001b[0mobservation\u001b[0m\u001b[0;34m,\u001b[0m \u001b[0mreward\u001b[0m\u001b[0;34m,\u001b[0m \u001b[0mterminated\u001b[0m\u001b[0;34m,\u001b[0m \u001b[0mtruncated\u001b[0m\u001b[0;34m,\u001b[0m \u001b[0minfo\u001b[0m \u001b[0;34m=\u001b[0m \u001b[0mself\u001b[0m\u001b[0;34m.\u001b[0m\u001b[0menv\u001b[0m\u001b[0;34m.\u001b[0m\u001b[0mstep\u001b[0m\u001b[0;34m(\u001b[0m\u001b[0maction\u001b[0m\u001b[0;34m)\u001b[0m\u001b[0;34m\u001b[0m\u001b[0;34m\u001b[0m\u001b[0m\n\u001b[0m\u001b[1;32m     51\u001b[0m         \u001b[0mself\u001b[0m\u001b[0;34m.\u001b[0m\u001b[0m_elapsed_steps\u001b[0m \u001b[0;34m+=\u001b[0m \u001b[0;36m1\u001b[0m\u001b[0;34m\u001b[0m\u001b[0;34m\u001b[0m\u001b[0m\n\u001b[1;32m     52\u001b[0m \u001b[0;34m\u001b[0m\u001b[0m\n",
      "\u001b[0;32m~/anaconda3/lib/python3.9/site-packages/gym/wrappers/order_enforcing.py\u001b[0m in \u001b[0;36mstep\u001b[0;34m(self, action)\u001b[0m\n\u001b[1;32m     35\u001b[0m         \u001b[0;32mif\u001b[0m \u001b[0;32mnot\u001b[0m \u001b[0mself\u001b[0m\u001b[0;34m.\u001b[0m\u001b[0m_has_reset\u001b[0m\u001b[0;34m:\u001b[0m\u001b[0;34m\u001b[0m\u001b[0;34m\u001b[0m\u001b[0m\n\u001b[1;32m     36\u001b[0m             \u001b[0;32mraise\u001b[0m \u001b[0mResetNeeded\u001b[0m\u001b[0;34m(\u001b[0m\u001b[0;34m\"Cannot call env.step() before calling env.reset()\"\u001b[0m\u001b[0;34m)\u001b[0m\u001b[0;34m\u001b[0m\u001b[0;34m\u001b[0m\u001b[0m\n\u001b[0;32m---> 37\u001b[0;31m         \u001b[0;32mreturn\u001b[0m \u001b[0mself\u001b[0m\u001b[0;34m.\u001b[0m\u001b[0menv\u001b[0m\u001b[0;34m.\u001b[0m\u001b[0mstep\u001b[0m\u001b[0;34m(\u001b[0m\u001b[0maction\u001b[0m\u001b[0;34m)\u001b[0m\u001b[0;34m\u001b[0m\u001b[0;34m\u001b[0m\u001b[0m\n\u001b[0m\u001b[1;32m     38\u001b[0m \u001b[0;34m\u001b[0m\u001b[0m\n\u001b[1;32m     39\u001b[0m     \u001b[0;32mdef\u001b[0m \u001b[0mreset\u001b[0m\u001b[0;34m(\u001b[0m\u001b[0mself\u001b[0m\u001b[0;34m,\u001b[0m \u001b[0;34m**\u001b[0m\u001b[0mkwargs\u001b[0m\u001b[0;34m)\u001b[0m\u001b[0;34m:\u001b[0m\u001b[0;34m\u001b[0m\u001b[0;34m\u001b[0m\u001b[0m\n",
      "\u001b[0;32m~/anaconda3/lib/python3.9/site-packages/gym/wrappers/env_checker.py\u001b[0m in \u001b[0;36mstep\u001b[0;34m(self, action)\u001b[0m\n\u001b[1;32m     37\u001b[0m             \u001b[0;32mreturn\u001b[0m \u001b[0menv_step_passive_checker\u001b[0m\u001b[0;34m(\u001b[0m\u001b[0mself\u001b[0m\u001b[0;34m.\u001b[0m\u001b[0menv\u001b[0m\u001b[0;34m,\u001b[0m \u001b[0maction\u001b[0m\u001b[0;34m)\u001b[0m\u001b[0;34m\u001b[0m\u001b[0;34m\u001b[0m\u001b[0m\n\u001b[1;32m     38\u001b[0m         \u001b[0;32melse\u001b[0m\u001b[0;34m:\u001b[0m\u001b[0;34m\u001b[0m\u001b[0;34m\u001b[0m\u001b[0m\n\u001b[0;32m---> 39\u001b[0;31m             \u001b[0;32mreturn\u001b[0m \u001b[0mself\u001b[0m\u001b[0;34m.\u001b[0m\u001b[0menv\u001b[0m\u001b[0;34m.\u001b[0m\u001b[0mstep\u001b[0m\u001b[0;34m(\u001b[0m\u001b[0maction\u001b[0m\u001b[0;34m)\u001b[0m\u001b[0;34m\u001b[0m\u001b[0;34m\u001b[0m\u001b[0m\n\u001b[0m\u001b[1;32m     40\u001b[0m \u001b[0;34m\u001b[0m\u001b[0m\n\u001b[1;32m     41\u001b[0m     \u001b[0;32mdef\u001b[0m \u001b[0mreset\u001b[0m\u001b[0;34m(\u001b[0m\u001b[0mself\u001b[0m\u001b[0;34m,\u001b[0m \u001b[0;34m**\u001b[0m\u001b[0mkwargs\u001b[0m\u001b[0;34m)\u001b[0m\u001b[0;34m:\u001b[0m\u001b[0;34m\u001b[0m\u001b[0;34m\u001b[0m\u001b[0m\n",
      "\u001b[0;32m~/anaconda3/lib/python3.9/site-packages/gym/envs/mujoco/inverted_double_pendulum_v4.py\u001b[0m in \u001b[0;36mstep\u001b[0;34m(self, action)\u001b[0m\n\u001b[1;32m    134\u001b[0m \u001b[0;34m\u001b[0m\u001b[0m\n\u001b[1;32m    135\u001b[0m     \u001b[0;32mdef\u001b[0m \u001b[0mstep\u001b[0m\u001b[0;34m(\u001b[0m\u001b[0mself\u001b[0m\u001b[0;34m,\u001b[0m \u001b[0maction\u001b[0m\u001b[0;34m)\u001b[0m\u001b[0;34m:\u001b[0m\u001b[0;34m\u001b[0m\u001b[0;34m\u001b[0m\u001b[0m\n\u001b[0;32m--> 136\u001b[0;31m         \u001b[0mself\u001b[0m\u001b[0;34m.\u001b[0m\u001b[0mdo_simulation\u001b[0m\u001b[0;34m(\u001b[0m\u001b[0maction\u001b[0m\u001b[0;34m,\u001b[0m \u001b[0mself\u001b[0m\u001b[0;34m.\u001b[0m\u001b[0mframe_skip\u001b[0m\u001b[0;34m)\u001b[0m\u001b[0;34m\u001b[0m\u001b[0;34m\u001b[0m\u001b[0m\n\u001b[0m\u001b[1;32m    137\u001b[0m         \u001b[0mob\u001b[0m \u001b[0;34m=\u001b[0m \u001b[0mself\u001b[0m\u001b[0;34m.\u001b[0m\u001b[0m_get_obs\u001b[0m\u001b[0;34m(\u001b[0m\u001b[0;34m)\u001b[0m\u001b[0;34m\u001b[0m\u001b[0;34m\u001b[0m\u001b[0m\n\u001b[1;32m    138\u001b[0m         \u001b[0mx\u001b[0m\u001b[0;34m,\u001b[0m \u001b[0m_\u001b[0m\u001b[0;34m,\u001b[0m \u001b[0my\u001b[0m \u001b[0;34m=\u001b[0m \u001b[0mself\u001b[0m\u001b[0;34m.\u001b[0m\u001b[0mdata\u001b[0m\u001b[0;34m.\u001b[0m\u001b[0msite_xpos\u001b[0m\u001b[0;34m[\u001b[0m\u001b[0;36m0\u001b[0m\u001b[0;34m]\u001b[0m\u001b[0;34m\u001b[0m\u001b[0;34m\u001b[0m\u001b[0m\n",
      "\u001b[0;32m~/anaconda3/lib/python3.9/site-packages/gym/envs/mujoco/mujoco_env.py\u001b[0m in \u001b[0;36mdo_simulation\u001b[0;34m(self, ctrl, n_frames)\u001b[0m\n\u001b[1;32m    155\u001b[0m         \u001b[0;32mif\u001b[0m \u001b[0mnp\u001b[0m\u001b[0;34m.\u001b[0m\u001b[0marray\u001b[0m\u001b[0;34m(\u001b[0m\u001b[0mctrl\u001b[0m\u001b[0;34m)\u001b[0m\u001b[0;34m.\u001b[0m\u001b[0mshape\u001b[0m \u001b[0;34m!=\u001b[0m \u001b[0mself\u001b[0m\u001b[0;34m.\u001b[0m\u001b[0maction_space\u001b[0m\u001b[0;34m.\u001b[0m\u001b[0mshape\u001b[0m\u001b[0;34m:\u001b[0m\u001b[0;34m\u001b[0m\u001b[0;34m\u001b[0m\u001b[0m\n\u001b[1;32m    156\u001b[0m             \u001b[0;32mraise\u001b[0m \u001b[0mValueError\u001b[0m\u001b[0;34m(\u001b[0m\u001b[0;34m\"Action dimension mismatch\"\u001b[0m\u001b[0;34m)\u001b[0m\u001b[0;34m\u001b[0m\u001b[0;34m\u001b[0m\u001b[0m\n\u001b[0;32m--> 157\u001b[0;31m         \u001b[0mself\u001b[0m\u001b[0;34m.\u001b[0m\u001b[0m_step_mujoco_simulation\u001b[0m\u001b[0;34m(\u001b[0m\u001b[0mctrl\u001b[0m\u001b[0;34m,\u001b[0m \u001b[0mn_frames\u001b[0m\u001b[0;34m)\u001b[0m\u001b[0;34m\u001b[0m\u001b[0;34m\u001b[0m\u001b[0m\n\u001b[0m\u001b[1;32m    158\u001b[0m \u001b[0;34m\u001b[0m\u001b[0m\n\u001b[1;32m    159\u001b[0m     \u001b[0;32mdef\u001b[0m \u001b[0mclose\u001b[0m\u001b[0;34m(\u001b[0m\u001b[0mself\u001b[0m\u001b[0;34m)\u001b[0m\u001b[0;34m:\u001b[0m\u001b[0;34m\u001b[0m\u001b[0;34m\u001b[0m\u001b[0m\n",
      "\u001b[0;32m~/anaconda3/lib/python3.9/site-packages/gym/envs/mujoco/mujoco_env.py\u001b[0m in \u001b[0;36m_step_mujoco_simulation\u001b[0;34m(self, ctrl, n_frames)\u001b[0m\n\u001b[1;32m    349\u001b[0m         \u001b[0mself\u001b[0m\u001b[0;34m.\u001b[0m\u001b[0mdata\u001b[0m\u001b[0;34m.\u001b[0m\u001b[0mctrl\u001b[0m\u001b[0;34m[\u001b[0m\u001b[0;34m:\u001b[0m\u001b[0;34m]\u001b[0m \u001b[0;34m=\u001b[0m \u001b[0mctrl\u001b[0m\u001b[0;34m\u001b[0m\u001b[0;34m\u001b[0m\u001b[0m\n\u001b[1;32m    350\u001b[0m \u001b[0;34m\u001b[0m\u001b[0m\n\u001b[0;32m--> 351\u001b[0;31m         \u001b[0mmujoco\u001b[0m\u001b[0;34m.\u001b[0m\u001b[0mmj_step\u001b[0m\u001b[0;34m(\u001b[0m\u001b[0mself\u001b[0m\u001b[0;34m.\u001b[0m\u001b[0mmodel\u001b[0m\u001b[0;34m,\u001b[0m \u001b[0mself\u001b[0m\u001b[0;34m.\u001b[0m\u001b[0mdata\u001b[0m\u001b[0;34m,\u001b[0m \u001b[0mnstep\u001b[0m\u001b[0;34m=\u001b[0m\u001b[0mself\u001b[0m\u001b[0;34m.\u001b[0m\u001b[0mframe_skip\u001b[0m\u001b[0;34m)\u001b[0m\u001b[0;34m\u001b[0m\u001b[0;34m\u001b[0m\u001b[0m\n\u001b[0m\u001b[1;32m    352\u001b[0m \u001b[0;34m\u001b[0m\u001b[0m\n\u001b[1;32m    353\u001b[0m         \u001b[0;31m# As of MuJoCo 2.0, force-related quantities like cacc are not computed\u001b[0m\u001b[0;34m\u001b[0m\u001b[0;34m\u001b[0m\u001b[0m\n",
      "\u001b[0;31mKeyboardInterrupt\u001b[0m: "
     ]
    }
   ],
   "source": [
    "avg_rewards = []\n",
    "std_rewards = []\n",
    "convergence_episode = []\n",
    "error_range = np.linspace(0.0, 0.1, 41) # defines two standard deviations of the gaussian (95% confidence of being within error range)\n",
    "n = 100 # episodes per test\n",
    "trials = 5 # number of attempted runs to convergence\n",
    "for pct_error in error_range:\n",
    "    for _ in range(trials):\n",
    "        agent = DDPGAgent(state_dim-3, action_dim, hidden_dim=64, hidden_layers=2, tau=0.1, batch_size=64)\n",
    "        featurizer.noise = pct_error / 2.0\n",
    "        trainer = DDPGTrainer(env, agent, featurizer, until_convergence=True, convergence_reward=8000)\n",
    "        trainer.train(episodes=10000)\n",
    "        rewards = np.array([trainer.run_episode(False)['reward'] for _ in range(n)])\n",
    "        avg_rewards.append(np.mean(rewards))\n",
    "        std_rewards.append(np.std(rewards)/np.sqrt(n))\n",
    "        convergence_episode.append(len(trainer.episode_rewards))\n",
    "    # save it\n",
    "    np.save(f\"avg_rewards.npy\", avg_rewards)\n",
    "    np.save(f\"std_rewards.npy\", std_rewards)\n",
    "    np.save(f\"convergence_episode.npy\", convergence_episode)"
   ]
  },
  {
   "cell_type": "code",
   "execution_count": 39,
   "metadata": {},
   "outputs": [
    {
     "data": {
      "text/plain": [
       "array([ 0.  ,  0.25,  0.5 ,  0.75,  1.  ,  1.25,  1.5 ,  1.75,  2.  ,\n",
       "        2.25,  2.5 ,  2.75,  3.  ,  3.25,  3.5 ,  3.75,  4.  ,  4.25,\n",
       "        4.5 ,  4.75,  5.  ,  5.25,  5.5 ,  5.75,  6.  ,  6.25,  6.5 ,\n",
       "        6.75,  7.  ,  7.25,  7.5 ,  7.75,  8.  ,  8.25,  8.5 ,  8.75,\n",
       "        9.  ,  9.25,  9.5 ,  9.75, 10.  ])"
      ]
     },
     "execution_count": 39,
     "metadata": {},
     "output_type": "execute_result"
    }
   ],
   "source": [
    "error_range*100"
   ]
  },
  {
   "cell_type": "code",
   "execution_count": null,
   "metadata": {},
   "outputs": [
    {
     "data": {
      "text/plain": [
       "[6774.289912656158,\n",
       " 7317.352091109585,\n",
       " 8516.735114989635,\n",
       " 7504.623933503008,\n",
       " 2310.810400092554,\n",
       " 1667.9162646916402,\n",
       " 1891.821611112335,\n",
       " 1558.9933733812202,\n",
       " 835.4529847797332,\n",
       " 1112.5937609638347,\n",
       " 901.4429001852617,\n",
       " 1182.6908965939908,\n",
       " 1038.3119149375107,\n",
       " 1002.7834239108686,\n",
       " 31.154320853076012,\n",
       " 942.1773636124043]"
      ]
     },
     "execution_count": 42,
     "metadata": {},
     "output_type": "execute_result"
    }
   ],
   "source": []
  },
  {
   "cell_type": "code",
   "execution_count": 44,
   "metadata": {},
   "outputs": [
    {
     "data": {
      "text/plain": [
       "array([0.    , 0.0025, 0.005 , 0.0075, 0.01  , 0.0125, 0.015 , 0.0175,\n",
       "       0.02  , 0.0225, 0.025 , 0.0275, 0.03  , 0.0325, 0.035 , 0.0375,\n",
       "       0.04  , 0.0425, 0.045 , 0.0475, 0.05  , 0.0525, 0.055 , 0.0575,\n",
       "       0.06  , 0.0625, 0.065 , 0.0675, 0.07  , 0.0725, 0.075 , 0.0775,\n",
       "       0.08  , 0.0825, 0.085 , 0.0875, 0.09  , 0.0925, 0.095 , 0.0975,\n",
       "       0.1   ])"
      ]
     },
     "execution_count": 44,
     "metadata": {},
     "output_type": "execute_result"
    }
   ],
   "source": [
    "error_range"
   ]
  },
  {
   "cell_type": "code",
   "execution_count": 53,
   "metadata": {},
   "outputs": [
    {
     "data": {
      "image/png": "[encoded data removed]",
      "text/plain": [
       "<Figure size 1200x500 with 1 Axes>"
      ]
     },
     "metadata": {},
     "output_type": "display_data"
    }
   ],
   "source": [
    "import matplotlib.pyplot as plt\n",
    "fig, ax = plt.subplots(figsize=(12, 5))\n",
    "X = error_range[:len(avg_rewards[::trials])]\n",
    "# average every trials clump\n",
    "y = [np.mean(avg_rewards[i:i+trials]) for i in range(0, len(avg_rewards), trials)]\n",
    "yerr = [np.mean(std_rewards[i:i+trials]) for i in range(0, len(std_rewards), trials)]\n",
    "ax.errorbar(X, y, yerr=yerr, fmt=\"o\", capsize=5, capthick=2, color=\"black\")\n",
    "# ax.plot(n, r_mean, color=\"black\", alpha=0.5)\n",
    "\n",
    "ax.set_xlabel(\"Measurement Error\")\n",
    "ax.set_ylabel(\"Reward\")\n",
    "ax.set_title(\"Effect of Environmental Noise on Convergence Reward\")\n",
    "# change the font and make the x axis have more ticks and percent sign\n",
    "ax.set_xticks(X)\n",
    "ax.set_xticklabels([\"$\\pm${:.1f}%\".format(x*100) for x in X])\n",
    "\n",
    "ax.grid()\n",
    "plt.show()"
   ]
  },
  {
   "cell_type": "markdown",
   "metadata": {},
   "source": [
    "## Ball and Beam Problem"
   ]
  },
  {
   "cell_type": "code",
   "execution_count": null,
   "metadata": {},
   "outputs": [],
   "source": [
    "import ballbeam_gym.envs\n",
    "import warnings\n",
    "warnings.filterwarnings('ignore')\n",
    "\n",
    "env = ballbeam_gym.envs.BallBeamSetpointEnv(timestep=0.02, setpoint=-0.8, beam_length=2.0, max_angle=0.5, max_timesteps=500, action_mode='discrete')\n",
    "env.action_space = np.arange(3)\n",
    "state_dim = env.observation_space.shape[0]\n",
    "\n",
    "featurizer = StandardScaler(state_dim)\n",
    "agent = DQLAgent(state_dim, env.action_space.shape[0], batch_size=128, epsilon_decay=0.9995)"
   ]
  },
  {
   "cell_type": "code",
   "execution_count": null,
   "metadata": {},
   "outputs": [],
   "source": [
    "trainer = DQLTrainer(env, agent, featurizer)\n",
    "trainer.train(episodes=1000)\n",
    "trainer.plot_losses()"
   ]
  },
  {
   "cell_type": "code",
   "execution_count": null,
   "metadata": {},
   "outputs": [],
   "source": [
    "info = trainer.run_episode()\n",
    "to_gif(info['rgb_arrays'], 'ball_and_beam.gif', duration=25)"
   ]
  },
  {
   "cell_type": "markdown",
   "metadata": {},
   "source": [
    "## Panda Reach"
   ]
  },
  {
   "cell_type": "code",
   "execution_count": 3,
   "metadata": {},
   "outputs": [],
   "source": [
    "import torch\n",
    "class PandaFeaturizer(StandardScaler):\n",
    "    def __init__(self):\n",
    "        super().__init__(12)\n",
    "    \n",
    "    def transform_state(self, state, info=None):\n",
    "        state = np.concatenate([state['achieved_goal'], state['desired_goal'], state['observation']])\n",
    "        return torch.tensor(state, dtype=torch.float32).unsqueeze(0)"
   ]
  },
  {
   "cell_type": "code",
   "execution_count": null,
   "metadata": {},
   "outputs": [],
   "source": [
    "import gymnasium \n",
    "import panda_gym\n",
    "env = gymnasium.make('PandaReach-v3', render_mode=\"rgb_array\")\n",
    "featurizer = PandaFeaturizer()\n",
    "agent = DDPGAgent(12, env.action_space.shape[0])\n",
    "trainer = DDPGTrainer(env, agent, featurizer)\n"
   ]
  }
 ],
 "metadata": {
  "kernelspec": {
   "display_name": "base",
   "language": "python",
   "name": "python3"
  },
  "language_info": {
   "codemirror_mode": {
    "name": "ipython",
    "version": 3
   },
   "file_extension": ".py",
   "mimetype": "text/x-python",
   "name": "python",
   "nbconvert_exporter": "python",
   "pygments_lexer": "ipython3",
   "version": "3.9.13"
  }
 },
 "nbformat": 4,
 "nbformat_minor": 2
}
