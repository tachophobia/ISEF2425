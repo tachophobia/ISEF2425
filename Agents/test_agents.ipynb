{
 "cells": [
  {
   "cell_type": "code",
   "execution_count": 1,
   "metadata": {},
   "outputs": [],
   "source": [
    "from framework import StandardScaler\n",
    "from dql import DQLAgent, DQLTrainer\n",
    "from ddpg import DDPGAgent, DDPGTrainer, LichtenbergAgent\n",
    "\n",
    "from PIL import Image\n",
    "import gymnasium\n",
    "import numpy as np\n",
    "\n",
    "def to_gif(matrices, filepath, duration=25):\n",
    "    frames = []\n",
    "    for matrix in matrices:\n",
    "        image = Image.fromarray(matrix)\n",
    "        frames.append(image)\n",
    "    frames[0].save(filepath, save_all=True, append_images=frames[1:], duration=duration, loop=0)"
   ]
  },
  {
   "cell_type": "markdown",
   "metadata": {},
   "source": [
    "## Submarine"
   ]
  },
  {
   "cell_type": "code",
   "execution_count": null,
   "metadata": {},
   "outputs": [],
   "source": [
    "from environments.submarine import ContinuousSubmarine\n",
    "import time\n",
    "\n",
    "episodes = []\n",
    "time_taken = []\n",
    "env = ContinuousSubmarine(delta_t=1, randomize=False) \n",
    "state_dim = env.observation_space.shape[0]\n",
    "action_dim = env.action_space.shape[0]\n",
    "featurizer = StandardScaler(state_dim, learn=False)\n",
    "featurizer.mean = np.array([ 7.73739964, 11.54841878,  1.6379028 ,  1.92430292])\n",
    "featurizer.var = np.array([ 580.12531577, 1460.05771442,   36.57866531,   37.08183991])\n",
    "# for training comparison stability, ensure that the featurizer scaling is constant"
   ]
  },
  {
   "cell_type": "code",
   "execution_count": null,
   "metadata": {},
   "outputs": [],
   "source": [
    "for _ in range(1):\n",
    "    # agent = DDPGAgent(state_dim, action_dim, batch_size=32, tau=0.05)\n",
    "    agent = LichtenbergAgent(state_dim, action_dim, \"figure2d.npy\", batch_size=32, tau=0.1, n_iter=3, pop=15)\n",
    "\n",
    "    trainer = DDPGTrainer(env, agent, featurizer, until_convergence=True, convergence_reward=100)\n",
    "    start = time.perf_counter()\n",
    "    trainer.train(episodes=10000)\n",
    "    while not trainer.has_converged(100):\n",
    "        trainer.train(episodes=100)\n",
    "    episodes.append(len(trainer.episode_rewards))\n",
    "    time_taken.append(int(round(time.perf_counter() - start)))\n",
    "    # print(episodes[-1], time_taken[-1])\n",
    "    # print(trainer.episode_rewards, trainer.actor_losses, trainer.critic_losses)\n",
    "    # trainer.plot_losses()\n",
    "    # trainer.plot_rewards()"
   ]
  },
  {
   "cell_type": "markdown",
   "metadata": {},
   "source": [
    "## Parking"
   ]
  },
  {
   "cell_type": "code",
   "execution_count": null,
   "metadata": {},
   "outputs": [],
   "source": [
    "import torch\n",
    "class ParkingFeaturizer(StandardScaler):\n",
    "    def __init__(self):\n",
    "        super().__init__(19)\n",
    "    \n",
    "    def transform_state(self, state, info=None):\n",
    "        speed = info['speed'] if info else 0.0\n",
    "        state = np.concat([state['observation'], state['achieved_goal'], state['desired_goal'], np.array([speed])])\n",
    "        return torch.tensor(state, dtype=torch.float32).unsqueeze(0)\n"
   ]
  },
  {
   "cell_type": "code",
   "execution_count": null,
   "metadata": {},
   "outputs": [],
   "source": [
    "import highway_env.envs.parking_env as parking_env\n",
    "\n",
    "env = parking_env.ParkingEnv({\n",
    "    \"observation\": {\n",
    "        \"type\": \"KinematicsGoal\",\n",
    "        \"features\": ['x', 'y', 'vx', 'vy', 'cos_h', 'sin_h'],\n",
    "        \"scales\": [100, 100, 5, 5, 1, 1],\n",
    "        \"normalize\": True\n",
    "    },\n",
    "    \"action\": {\n",
    "        \"type\": \"ContinuousAction\"\n",
    "    },\n",
    "    \"simulation_frequency\": 15,\n",
    "    \"policy_frequency\": 3,\n",
    "    \"screen_width\": 600,\n",
    "    \"screen_height\": 300,\n",
    "    \"centering_position\": [0.5, 0.5],\n",
    "    \"scaling\": 7,\n",
    "    \"show_trajectories\": False,\n",
    "    \"render_agent\": True,\n",
    "    \"offscreen_rendering\": True\n",
    "})\n",
    "env.render_mode = 'rgb_array'\n",
    "featurizer = ParkingFeaturizer()\n",
    "agent = LichtenbergAgent(19, 2, \"figure2d.npy\", hidden_layers=3, tau=0.05, batch_size=64, n_iter=3, pop=15)\n",
    "trainer = DDPGTrainer(env, agent, featurizer)"
   ]
  },
  {
   "cell_type": "code",
   "execution_count": null,
   "metadata": {},
   "outputs": [],
   "source": [
    "trainer.train(episodes=10000)\n",
    "# trainer.save()"
   ]
  },
  {
   "cell_type": "markdown",
   "metadata": {},
   "source": [
    "## Inverted Pendulum"
   ]
  },
  {
   "cell_type": "code",
   "execution_count": 2,
   "metadata": {},
   "outputs": [],
   "source": [
    "import torch\n",
    "\n",
    "class PendulumFeaturizer(StandardScaler):\n",
    "    def __init__(self):\n",
    "        super().__init__(8, learn=False)\n",
    "    \n",
    "    def transform_state(self, state, info=None):\n",
    "        state = state[:-1]\n",
    "        normalized_state = (state - self.mean) / np.sqrt(self.var + 1e-8)\n",
    "        return torch.tensor(normalized_state, dtype=torch.float32).unsqueeze(0)"
   ]
  },
  {
   "cell_type": "markdown",
   "metadata": {},
   "source": [
    "#### Delayed pendulum has $n$ ms sampling time with $d \\cdot n$ ms delay\n",
    "In practice, this response delay may be the amount of time it takes to preprocess a data stream or to signal an action"
   ]
  },
  {
   "cell_type": "code",
   "execution_count": 3,
   "metadata": {},
   "outputs": [],
   "source": [
    "camera_config = {\n",
    "    \"distance\": 3.5\n",
    "}\n",
    "env = gymnasium.make('InvertedDoublePendulum-v5', render_mode='rgb_array', default_camera_config=camera_config, frame_skip=1)\n",
    "# env.unwrapped.model.opt.timestep = 1e-3\n",
    "state_dim = env.observation_space.shape[0]\n",
    "action_dim = env.action_space.shape[0]\n",
    "\n",
    "featurizer = PendulumFeaturizer()\n",
    "# experimentally approximated mean and standard deviation of state vector\n",
    "featurizer.mean = np.array([-0.0537724 , # position of the cart along the linear surface (m)\n",
    "                             0.00854607, # sine of the angle between the cart and the first pole\n",
    "                            -0.0020691 , # sine of the angle between the two poles\n",
    "                             0.97681748, # cosine of the angle between the cart and the first pole\n",
    "                             0.97418304, # cosine of the angle between the two poles\n",
    "                             0.00404627, # velocity of the cart (m/s)\n",
    "                             0.03138314, # angular velocity of the angle between the cart and the first pole (rad/s)\n",
    "                            -0.03641539, # angular velocity of the angle between the two poles (rad/s)\n",
    "                            -0.0363062 , # constraint force - 1 (N)\n",
    "                             0.        , # constraint force - 2 (N)\n",
    "                             0.          # constraint force - 3 (N)\n",
    "                             ])[:-3]\n",
    "featurizer.var = np.array([4.08496608e-02, 9.94629836e-02, 1.39189335e-01, 7.58616097e-03,\n",
    "                           1.25376890e-02, 6.61337497e+00, 2.03311682e+01, 1.82406234e+01,\n",
    "                           3.15706362e-02, 0.00000000e+00, 0.00000000e+00])[:-3]"
   ]
  },
  {
   "cell_type": "code",
   "execution_count": 33,
   "metadata": {},
   "outputs": [],
   "source": [
    "# use same agent throughout for better starting weights\n",
    "agent = DDPGAgent(state_dim-1, action_dim, hidden_dim=64, hidden_layers=2, tau=0.1, batch_size=64)"
   ]
  },
  {
   "cell_type": "code",
   "execution_count": null,
   "metadata": {},
   "outputs": [
    {
     "name": "stdout",
     "output_type": "stream",
     "text": [
      "Delay: 0\n"
     ]
    },
    {
     "name": "stderr",
     "output_type": "stream",
     "text": [
      "  8%|▊         | 407/5000 [00:22<04:48, 15.94it/s]"
     ]
    }
   ],
   "source": [
    "# avg_rewards = []\n",
    "# std_rewards = []\n",
    "# convergence_episode = []\n",
    "# delays = [*range(0, 5), *range(5, 51, 5), *range(50, 101, 10)] # delay in ms\n",
    "# n = 100 # episodes per test\n",
    "\n",
    "\n",
    "for delay in delays:\n",
    "    print(f\"Delay: {delay}\")\n",
    "    trainer = DDPGTrainer(env, agent, featurizer, until_convergence=True, convergence_reward=8000, delay=delay)\n",
    "    trainer.train(episodes=5000)\n",
    "    rewards = np.array([trainer.run_episode(False)['reward'] for _ in range(n)])\n",
    "    avg_rewards.append(np.mean(rewards))\n",
    "    std_rewards.append(np.std(rewards)/np.sqrt(n))\n",
    "    convergence_episode.append(len(trainer.episode_rewards))\n",
    "    # save it\n",
    "    np.save(f\"avg_rewards.npy\", avg_rewards)\n",
    "    np.save(f\"std_rewards.npy\", std_rewards)\n",
    "    np.save(f\"convergence_episode.npy\", convergence_episode)"
   ]
  },
  {
   "cell_type": "code",
   "execution_count": 35,
   "metadata": {},
   "outputs": [
    {
     "data": {
      "image/png": "[encoded data removed]",
      "text/plain": [
       "<Figure size 1200x500 with 1 Axes>"
      ]
     },
     "metadata": {},
     "output_type": "display_data"
    }
   ],
   "source": [
    "import matplotlib.pyplot as plt\n",
    "\n",
    "fig, ax = plt.subplots(figsize=(12, 5))\n",
    "trials = 1\n",
    "X = np.array(delays[:len(avg_rewards[::trials])])*10\n",
    "y = [np.mean(avg_rewards[i:i+trials]) for i in range(0, len(avg_rewards), trials)]\n",
    "yerr = [np.mean(std_rewards[i:i+trials]) for i in range(0, len(std_rewards), trials)]\n",
    "\n",
    "ax.errorbar(X, y, yerr=yerr, fmt=\"o\", capsize=5, capthick=2, color=\"black\")\n",
    "ax.set_xlabel(\"Observation Delay\")\n",
    "ax.set_ylabel(\"Reward\")\n",
    "ax.set_title(\"Effect of Delayed Observations on Reward\")\n",
    "ax.set_xticks(X)\n",
    "ax.set_xticklabels([\"{:.0f} ms\".format(x) for x in X])\n",
    "ax.grid()\n",
    "plt.show()\n"
   ]
  },
  {
   "cell_type": "markdown",
   "metadata": {},
   "source": [
    "## Ball and Beam Problem"
   ]
  },
  {
   "cell_type": "code",
   "execution_count": null,
   "metadata": {},
   "outputs": [],
   "source": [
    "import ballbeam_gym.envs\n",
    "import warnings\n",
    "warnings.filterwarnings('ignore')\n",
    "\n",
    "env = ballbeam_gym.envs.BallBeamSetpointEnv(timestep=0.02, setpoint=-0.8, beam_length=2.0, max_angle=0.5, max_timesteps=500, action_mode='discrete')\n",
    "env.action_space = np.arange(3)\n",
    "state_dim = env.observation_space.shape[0]\n",
    "\n",
    "featurizer = StandardScaler(state_dim)\n",
    "agent = DQLAgent(state_dim, env.action_space.shape[0], batch_size=128, epsilon_decay=0.9995)"
   ]
  },
  {
   "cell_type": "code",
   "execution_count": null,
   "metadata": {},
   "outputs": [],
   "source": [
    "trainer = DQLTrainer(env, agent, featurizer)\n",
    "trainer.train(episodes=1000)\n",
    "trainer.plot_losses()"
   ]
  },
  {
   "cell_type": "code",
   "execution_count": null,
   "metadata": {},
   "outputs": [],
   "source": [
    "info = trainer.run_episode()\n",
    "to_gif(info['rgb_arrays'], 'ball_and_beam.gif', duration=25)"
   ]
  },
  {
   "cell_type": "markdown",
   "metadata": {},
   "source": [
    "## Panda Reach"
   ]
  },
  {
   "cell_type": "code",
   "execution_count": null,
   "metadata": {},
   "outputs": [],
   "source": [
    "import torch\n",
    "class PandaFeaturizer(StandardScaler):\n",
    "    def __init__(self):\n",
    "        super().__init__(12)\n",
    "    \n",
    "    def transform_state(self, state, info=None):\n",
    "        state = np.concatenate([state['achieved_goal'], state['desired_goal'], state['observation']])\n",
    "        return torch.tensor(state, dtype=torch.float32).unsqueeze(0)"
   ]
  },
  {
   "cell_type": "code",
   "execution_count": null,
   "metadata": {},
   "outputs": [],
   "source": [
    "import gymnasium \n",
    "import panda_gym\n",
    "env = gymnasium.make('PandaReach-v3', render_mode=\"rgb_array\")\n",
    "featurizer = PandaFeaturizer()\n",
    "agent = DDPGAgent(12, env.action_space.shape[0])\n",
    "trainer = DDPGTrainer(env, agent, featurizer)\n"
   ]
  }
 ],
 "metadata": {
  "kernelspec": {
   "display_name": "base",
   "language": "python",
   "name": "python3"
  },
  "language_info": {
   "codemirror_mode": {
    "name": "ipython",
    "version": 3
   },
   "file_extension": ".py",
   "mimetype": "text/x-python",
   "name": "python",
   "nbconvert_exporter": "python",
   "pygments_lexer": "ipython3",
   "version": "3.9.13"
  }
 },
 "nbformat": 4,
 "nbformat_minor": 2
}
