{
 "cells": [
  {
   "cell_type": "code",
   "execution_count": 1,
   "metadata": {},
   "outputs": [],
   "source": [
    "from framework import StandardScaler\n",
    "from dql import DQLAgent, DQLTrainer\n",
    "from ddpg import DDPGAgent, DDPGTrainer, LichtenbergAgent\n",
    "\n",
    "from PIL import Image\n",
    "import gym\n",
    "import numpy as np\n",
    "\n",
    "def to_gif(matrices, filepath, duration=25):\n",
    "    frames = []\n",
    "    for matrix in matrices:\n",
    "        image = Image.fromarray(matrix)\n",
    "        frames.append(image)\n",
    "    frames[0].save(filepath, save_all=True, append_images=frames[1:], duration=duration, loop=0)"
   ]
  },
  {
   "cell_type": "markdown",
   "metadata": {},
   "source": [
    "## Submarine"
   ]
  },
  {
   "cell_type": "code",
   "execution_count": 2,
   "metadata": {},
   "outputs": [],
   "source": [
    "from environments.submarine import ContinuousSubmarine\n",
    "import time\n",
    "\n",
    "episodes = []\n",
    "time_taken = []\n",
    "env = ContinuousSubmarine(delta_t=1, randomize=False) \n",
    "state_dim = env.observation_space.shape[0]\n",
    "action_dim = env.action_space.shape[0]\n",
    "featurizer = StandardScaler(state_dim, learn=False)\n",
    "featurizer.mean = np.array([ 7.73739964, 11.54841878,  1.6379028 ,  1.92430292])\n",
    "featurizer.var = np.array([ 580.12531577, 1460.05771442,   36.57866531,   37.08183991])\n",
    "# for training comparison stability, ensure that the featurizer scaling is constant"
   ]
  },
  {
   "cell_type": "code",
   "execution_count": null,
   "metadata": {},
   "outputs": [],
   "source": [
    "for _ in range(1):\n",
    "    # agent = DDPGAgent(state_dim, action_dim, batch_size=32, tau=0.05)\n",
    "    agent = LichtenbergAgent(state_dim, action_dim, \"figure2d.npy\", batch_size=32, tau=0.1, n_iter=3, pop=15)\n",
    "\n",
    "    trainer = DDPGTrainer(env, agent, featurizer, until_convergence=True, convergence_reward=100)\n",
    "    start = time.perf_counter()\n",
    "    trainer.train(episodes=10000)\n",
    "    while not trainer.has_converged(100):\n",
    "        trainer.train(episodes=100)\n",
    "    episodes.append(len(trainer.episode_rewards))\n",
    "    time_taken.append(int(round(time.perf_counter() - start)))\n",
    "    # print(episodes[-1], time_taken[-1])\n",
    "    # print(trainer.episode_rewards, trainer.actor_losses, trainer.critic_losses)\n",
    "    # trainer.plot_losses()\n",
    "    # trainer.plot_rewards()"
   ]
  },
  {
   "cell_type": "markdown",
   "metadata": {},
   "source": [
    "## Parking"
   ]
  },
  {
   "cell_type": "code",
   "execution_count": null,
   "metadata": {},
   "outputs": [],
   "source": [
    "import torch\n",
    "class ParkingFeaturizer(StandardScaler):\n",
    "    def __init__(self):\n",
    "        super().__init__(19)\n",
    "    \n",
    "    def transform_state(self, state, info=None):\n",
    "        speed = info['speed'] if info else 0.0\n",
    "        state = np.concat([state['observation'], state['achieved_goal'], state['desired_goal'], np.array([speed])])\n",
    "        return torch.tensor(state, dtype=torch.float32).unsqueeze(0)\n"
   ]
  },
  {
   "cell_type": "code",
   "execution_count": null,
   "metadata": {},
   "outputs": [],
   "source": [
    "import highway_env.envs.parking_env as parking_env\n",
    "\n",
    "env = parking_env.ParkingEnv({\n",
    "    \"observation\": {\n",
    "        \"type\": \"KinematicsGoal\",\n",
    "        \"features\": ['x', 'y', 'vx', 'vy', 'cos_h', 'sin_h'],\n",
    "        \"scales\": [100, 100, 5, 5, 1, 1],\n",
    "        \"normalize\": True\n",
    "    },\n",
    "    \"action\": {\n",
    "        \"type\": \"ContinuousAction\"\n",
    "    },\n",
    "    \"simulation_frequency\": 15,\n",
    "    \"policy_frequency\": 3,\n",
    "    \"screen_width\": 600,\n",
    "    \"screen_height\": 300,\n",
    "    \"centering_position\": [0.5, 0.5],\n",
    "    \"scaling\": 7,\n",
    "    \"show_trajectories\": False,\n",
    "    \"render_agent\": True,\n",
    "    \"offscreen_rendering\": True\n",
    "})\n",
    "env.render_mode = 'rgb_array'\n",
    "featurizer = ParkingFeaturizer()\n",
    "agent = LichtenbergAgent(19, 2, \"figure2d.npy\", hidden_layers=3, tau=0.05, batch_size=64, n_iter=3, pop=15)\n",
    "trainer = DDPGTrainer(env, agent, featurizer)"
   ]
  },
  {
   "cell_type": "code",
   "execution_count": null,
   "metadata": {},
   "outputs": [],
   "source": [
    "trainer.train(episodes=10000)\n",
    "# trainer.save()"
   ]
  },
  {
   "cell_type": "markdown",
   "metadata": {},
   "source": [
    "## Inverted Pendulum"
   ]
  },
  {
   "cell_type": "code",
   "execution_count": null,
   "metadata": {},
   "outputs": [],
   "source": [
    "env = gym.make('InvertedDoublePendulum-v4', render_mode='rgb_array')\n",
    "env.action_space = np.linspace(env.action_space.low, env.action_space.high, 21) # discretize action space\n",
    "state_dim = env.observation_space.shape[0]\n",
    "\n",
    "featurizer = StandardScaler(state_dim) # apply adaptive scaling to state vectors\n",
    "agent = DQLAgent( \n",
    "                 input_dim=state_dim, # neural net params\n",
    "                 output_dim=env.action_space.shape[0],\n",
    "                 hidden_dim=128,\n",
    "                 hidden_layers=5,\n",
    "                 batch_size=256,\n",
    "                 gamma=0.99, # discount factor\n",
    "                 min_epsilon=0.1, epsilon_decay=0.999, # exploration rate and decay\n",
    "                 tau=0.005 # update rate of target net\n",
    "                )\n",
    "\n",
    "trainer = DQLTrainer(env, agent, featurizer)\n",
    "trainer.train(episodes=300)\n",
    "info = trainer.run_episode(False)\n",
    "print(f\"cumulative reward: {info['reward']:.2f}, steps: {info['steps']}\")\n",
    "trainer.plot_losses()"
   ]
  },
  {
   "cell_type": "code",
   "execution_count": null,
   "metadata": {},
   "outputs": [],
   "source": [
    "env = gym.make('InvertedDoublePendulum-v4', render_mode='rgb_array')\n",
    "state_dim = env.observation_space.shape[0]\n",
    "action_dim = env.action_space.shape[0]\n",
    "featurizer = StandardScaler(state_dim)\n",
    "agent = DDPGAgent(state_dim, action_dim, hidden_layers=2, tau=0.01, batch_size=256)\n",
    "featurizer = StandardScaler(state_dim)\n",
    "trainer = DDPGTrainer(env, agent, featurizer)\n",
    "trainer.train(episodes=10000)\n",
    "trainer.plot_losses()"
   ]
  },
  {
   "cell_type": "markdown",
   "metadata": {},
   "source": [
    "## Ball and Beam Problem"
   ]
  },
  {
   "cell_type": "code",
   "execution_count": null,
   "metadata": {},
   "outputs": [],
   "source": [
    "import ballbeam_gym.envs\n",
    "import warnings\n",
    "warnings.filterwarnings('ignore')\n",
    "\n",
    "env = ballbeam_gym.envs.BallBeamSetpointEnv(timestep=0.02, setpoint=-0.8, beam_length=2.0, max_angle=0.5, max_timesteps=500, action_mode='discrete')\n",
    "env.action_space = np.arange(3)\n",
    "state_dim = env.observation_space.shape[0]\n",
    "\n",
    "featurizer = StandardScaler(state_dim)\n",
    "agent = DQLAgent(state_dim, env.action_space.shape[0], batch_size=128, epsilon_decay=0.9995)"
   ]
  },
  {
   "cell_type": "code",
   "execution_count": null,
   "metadata": {},
   "outputs": [],
   "source": [
    "trainer = DQLTrainer(env, agent, featurizer)\n",
    "trainer.train(episodes=1000)\n",
    "trainer.plot_losses()"
   ]
  },
  {
   "cell_type": "code",
   "execution_count": null,
   "metadata": {},
   "outputs": [],
   "source": [
    "info = trainer.run_episode()\n",
    "to_gif(info['rgb_arrays'], 'ball_and_beam.gif', duration=25)"
   ]
  },
  {
   "cell_type": "markdown",
   "metadata": {},
   "source": [
    "## Panda Reach"
   ]
  },
  {
   "cell_type": "code",
   "execution_count": 3,
   "metadata": {},
   "outputs": [],
   "source": [
    "import torch\n",
    "class PandaFeaturizer(StandardScaler):\n",
    "    def __init__(self):\n",
    "        super().__init__(12)\n",
    "    \n",
    "    def transform_state(self, state, info=None):\n",
    "        state = np.concatenate([state['achieved_goal'], state['desired_goal'], state['observation']])\n",
    "        return torch.tensor(state, dtype=torch.float32).unsqueeze(0)"
   ]
  },
  {
   "cell_type": "code",
   "execution_count": null,
   "metadata": {},
   "outputs": [],
   "source": [
    "import gymnasium \n",
    "import panda_gym\n",
    "env = gymnasium.make('PandaReach-v3', render_mode=\"rgb_array\")\n",
    "featurizer = PandaFeaturizer()\n",
    "agent = DDPGAgent(12, env.action_space.shape[0])\n",
    "trainer = DDPGTrainer(env, agent, featurizer)\n"
   ]
  }
 ],
 "metadata": {
  "kernelspec": {
   "display_name": "base",
   "language": "python",
   "name": "python3"
  },
  "language_info": {
   "codemirror_mode": {
    "name": "ipython",
    "version": 3
   },
   "file_extension": ".py",
   "mimetype": "text/x-python",
   "name": "python",
   "nbconvert_exporter": "python",
   "pygments_lexer": "ipython3",
   "version": "3.9.13"
  }
 },
 "nbformat": 4,
 "nbformat_minor": 2
}
