{
 "cells": [
  {
   "cell_type": "code",
   "execution_count": null,
   "metadata": {},
   "outputs": [],
   "source": [
    "from framework import Featurizer\n",
    "from dqn import DQNAgent, DQNTrainer\n",
    "\n",
    "from PIL import Image\n",
    "import gym\n",
    "import numpy as np"
   ]
  },
  {
   "cell_type": "code",
   "execution_count": null,
   "metadata": {},
   "outputs": [],
   "source": [
    "def to_gif(matrices, filepath, duration=25):\n",
    "    frames = []\n",
    "    for matrix in matrices:\n",
    "        image = Image.fromarray(matrix)\n",
    "        frames.append(image)\n",
    "    frames[0].save(filepath, save_all=True, append_images=frames[1:], duration=duration, loop=0)"
   ]
  },
  {
   "cell_type": "markdown",
   "metadata": {},
   "source": [
    "## Inverted Pendulum"
   ]
  },
  {
   "cell_type": "code",
   "execution_count": null,
   "metadata": {},
   "outputs": [],
   "source": [
    "env = gym.make('InvertedDoublePendulum-v4', render_mode='rgb_array')\n",
    "env.action_space = np.linspace(env.action_space.low, env.action_space.high, 21) # discretize action space\n",
    "state_dim = env.observation_space.shape[0]\n",
    "\n",
    "featurizer = Featurizer(state_dim) # apply adaptive scaling to state vectors\n",
    "agent = DQNAgent( \n",
    "                 input_dim=state_dim, # neural net params\n",
    "                 output_dim=env.action_space.shape[0],\n",
    "                 hidden_dim=128,\n",
    "                 hidden_layers=5,\n",
    "                 batch_size=256,\n",
    "                 gamma=0.99, # discount factor\n",
    "                 min_epsilon=0.1, epsilon_decay=0.999, # exploration rate and decay\n",
    "                 tau=0.005 # update rate of target net\n",
    "                )\n",
    "\n",
    "trainer = DQNTrainer(env, agent, featurizer)"
   ]
  },
  {
   "cell_type": "code",
   "execution_count": null,
   "metadata": {},
   "outputs": [],
   "source": [
    "trainer.train(episodes=1000)"
   ]
  },
  {
   "cell_type": "code",
   "execution_count": null,
   "metadata": {},
   "outputs": [],
   "source": [
    "info = trainer.run_episode(False)\n",
    "print(f\"cumulative reward: {info['reward']:.2f}, steps: {info['steps']}\")\n",
    "trainer.plot_losses()"
   ]
  },
  {
   "cell_type": "markdown",
   "metadata": {},
   "source": [
    "## Ball and Beam Problem"
   ]
  },
  {
   "cell_type": "code",
   "execution_count": null,
   "metadata": {},
   "outputs": [],
   "source": [
    "import ballbeam_gym.envs\n",
    "import warnings\n",
    "warnings.filterwarnings('ignore')\n",
    "\n",
    "env = ballbeam_gym.envs.BallBeamSetpointEnv(timestep=0.02, setpoint=-0.8, beam_length=2.0, max_angle=0.5, max_timesteps=500, action_mode='discrete')\n",
    "env.action_space = np.arange(3)\n",
    "state_dim = env.observation_space.shape[0]\n",
    "\n",
    "featurizer = Featurizer(state_dim)\n",
    "agent = DQNAgent(state_dim, env.action_space.shape[0], batch_size=128, epsilon_decay=0.9995)"
   ]
  },
  {
   "cell_type": "code",
   "execution_count": null,
   "metadata": {},
   "outputs": [],
   "source": [
    "trainer = DQNTrainer(env, agent, featurizer)\n",
    "trainer.train(episodes=1000)\n",
    "trainer.plot_losses()"
   ]
  },
  {
   "cell_type": "code",
   "execution_count": null,
   "metadata": {},
   "outputs": [],
   "source": [
    "info = trainer.run_episode()\n",
    "to_gif(info['rgb_arrays'], 'ball_and_beam.gif', duration=25)"
   ]
  }
 ],
 "metadata": {
  "kernelspec": {
   "display_name": "base",
   "language": "python",
   "name": "python3"
  },
  "language_info": {
   "codemirror_mode": {
    "name": "ipython",
    "version": 3
   },
   "file_extension": ".py",
   "mimetype": "text/x-python",
   "name": "python",
   "nbconvert_exporter": "python",
   "pygments_lexer": "ipython3",
   "version": "3.9.13"
  }
 },
 "nbformat": 4,
 "nbformat_minor": 2
}
