{
 "cells": [
  {
   "cell_type": "code",
   "execution_count": null,
   "metadata": {},
   "outputs": [],
   "source": [
    "import cv2\n",
    "import numpy as np\n",
    "import matplotlib.pyplot as plt\n",
    "from skimage.morphology import skeletonize"
   ]
  },
  {
   "cell_type": "code",
   "execution_count": null,
   "metadata": {},
   "outputs": [],
   "source": [
    "def display(*args):\n",
    "    if len(args) > 1:\n",
    "        _, axs = plt.subplots(1, len(args), figsize=(12, 10))\n",
    "        for i, arg in enumerate(args):\n",
    "            axs[i].imshow(arg, cmap='gray')\n",
    "            axs[i].axis('off')\n",
    "    else:\n",
    "        plt.imshow(args[0], cmap='gray')\n",
    "        plt.axis('off')\n",
    "    plt.show()"
   ]
  },
  {
   "cell_type": "code",
   "execution_count": null,
   "metadata": {},
   "outputs": [],
   "source": [
    "directory = '.'\n",
    "\n",
    "n = 1\n",
    "res = 150\n",
    "is_black = True\n",
    "\n",
    "mat = cv2.imread(f\"{directory}/fig{n}.jpg\", cv2.IMREAD_GRAYSCALE)\n",
    "\n",
    "mat = cv2.GaussianBlur(mat, (3, 3), 0)\n",
    "e, s = 1, 6\n",
    "kernel = np.array([[0, -e, 0],\n",
    "                   [-e, s, -e],\n",
    "                   [0, -e, 0]])\n",
    "mat = cv2.filter2D(mat, -1, kernel) # sharpen the image\n",
    "\n",
    "threshold_type = cv2.THRESH_BINARY\n",
    "if is_black:\n",
    "    threshold_type = cv2.THRESH_BINARY_INV\n",
    "    \n",
    "size = int(np.average(mat.shape)**0.5) * 2 + 1\n",
    "mat = cv2.adaptiveThreshold(mat, 1, cv2.ADAPTIVE_THRESH_GAUSSIAN_C, threshold_type, blockSize=size, C=10)\n",
    "\n",
    "\n",
    "# skeleton creation (if needed)\n",
    "skeleton = skeletonize(mat)\n",
    "skeleton = skeleton.astype(np.uint8) * 255\n",
    "\n",
    "dilation = 3\n",
    "dilation_kernel = np.ones((dilation, dilation), np.uint8)\n",
    "skeleton = cv2.dilate(skeleton, dilation_kernel, iterations=1)\n",
    "height, width = skeleton.shape\n",
    "max_dim = max(height, width)\n",
    "resized = np.zeros((max_dim, max_dim), dtype=np.uint8)\n",
    "pad_y = (max_dim - height) // 2\n",
    "pad_x = (max_dim - width) // 2\n",
    "resized[pad_y:pad_y + height, pad_x:pad_x + width] = skeleton\n",
    "resized = cv2.resize(resized, (res, res), interpolation=cv2.INTER_NEAREST)\n",
    "skeleton = resized\n",
    "\n",
    "display(mat, skeleton)"
   ]
  }
 ],
 "metadata": {
  "kernelspec": {
   "display_name": "base",
   "language": "python",
   "name": "python3"
  },
  "language_info": {
   "codemirror_mode": {
    "name": "ipython",
    "version": 3
   },
   "file_extension": ".py",
   "mimetype": "text/x-python",
   "name": "python",
   "nbconvert_exporter": "python",
   "pygments_lexer": "ipython3",
   "version": "3.9.13"
  }
 },
 "nbformat": 4,
 "nbformat_minor": 2
}
