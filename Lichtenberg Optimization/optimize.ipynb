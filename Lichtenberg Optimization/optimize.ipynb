{
 "cells": [
  {
   "cell_type": "markdown",
   "metadata": {},
   "source": [
    "# Optimizing the Ackley Function using the Lichtenberg Algorithm (LA)"
   ]
  },
  {
   "cell_type": "code",
   "execution_count": null,
   "metadata": {},
   "outputs": [],
   "source": [
    "from LA import LichtenbergFigure, LichtenbergAlgorithm\n",
    "from func import AckleyFunction\n",
    "\n",
    "import numpy as np\n",
    "import matplotlib.pyplot as plt"
   ]
  },
  {
   "cell_type": "markdown",
   "metadata": {},
   "source": [
    "### Load a Lichtenberg Figure using DBM or DLA for the algorithm to use"
   ]
  },
  {
   "cell_type": "code",
   "execution_count": null,
   "metadata": {},
   "outputs": [],
   "source": [
    "mat = np.load('figure2d.npy')\n",
    "mat[np.where(mat < 0)] = 0\n",
    "plt.figure(figsize=(10, 10), dpi=50)\n",
    "plt.imshow(1-mat, cmap='gray')\n",
    "plt.axis('off')\n",
    "plt.show()"
   ]
  },
  {
   "cell_type": "markdown",
   "metadata": {},
   "source": [
    "### Visualize how the algorithm samples from an example input space\n",
    "\n",
    "Here we provide a 2d input plane ranging from (-32, 32) to (32, 32). \n",
    "\n",
    "An LF is randomly scaled and rotated on this plane\n",
    "\n",
    "Then random points are selected from the LF (to be evaluated for fitness)\n"
   ]
  },
  {
   "cell_type": "code",
   "execution_count": null,
   "metadata": {},
   "outputs": [],
   "source": [
    "lf = LichtenbergFigure(mat, (0, 0), (-32, 32))\n",
    "\n",
    "lf.rand_transform((0, 0)) \n",
    "samples = lf.sample(1000)\n",
    "x, y = zip(*samples)\n",
    "\n",
    "plt.figure(figsize=(5, 5))\n",
    "plt.scatter(x, y, s=2, c='k')\n",
    "plt.xlim(-32, 32)\n",
    "plt.ylim(-32, 32)\n",
    "plt.axis('off')\n",
    "plt.tight_layout()\n",
    "plt.show()"
   ]
  },
  {
   "cell_type": "markdown",
   "metadata": {},
   "source": [
    "### Optimize the Ackley Function"
   ]
  },
  {
   "cell_type": "code",
   "execution_count": null,
   "metadata": {},
   "outputs": [],
   "source": [
    "ackley = AckleyFunction()\n",
    "ackley.lower_bound, ackley.upper_bound = -10, 30\n",
    "\n",
    "la = LichtenbergAlgorithm(M=2, ref=0.2, filename=\"figure2d.npy\")\n",
    "optimum = la.optimize(ackley, n_iter=100, pop=30)\n",
    "\n",
    "print(f\"Converged at {optimum}\")\n",
    "ackley.plot3d(ackley.center(), optimum)\n",
    "la.plot_convergence()\n",
    "la.plot_historical_search()"
   ]
  }
 ],
 "metadata": {
  "kernelspec": {
   "display_name": "base",
   "language": "python",
   "name": "python3"
  },
  "language_info": {
   "codemirror_mode": {
    "name": "ipython",
    "version": 3
   },
   "file_extension": ".py",
   "mimetype": "text/x-python",
   "name": "python",
   "nbconvert_exporter": "python",
   "pygments_lexer": "ipython3",
   "version": "3.9.13"
  }
 },
 "nbformat": 4,
 "nbformat_minor": 2
}
