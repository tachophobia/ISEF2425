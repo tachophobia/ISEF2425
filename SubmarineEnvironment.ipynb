import numpy as np
import matplotlib as plt

print("Submarine")
