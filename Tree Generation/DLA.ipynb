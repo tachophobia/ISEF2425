{
 "cells": [
  {
   "cell_type": "code",
   "execution_count": null,
   "metadata": {},
   "outputs": [],
   "source": [
    "import matplotlib.pyplot as plt\n",
    "import numpy as np"
   ]
  },
  {
   "cell_type": "code",
   "execution_count": null,
   "metadata": {},
   "outputs": [],
   "source": [
    "Rc = 100\n",
    "Np = 1e4\n",
    "S = 1\n",
    "plane = np.zeros((2*Rc+5, 2*Rc+5))\n",
    "\n",
    "def get_neighbors(r, c):\n",
    "    return [plane[r][c] for r, c in [(r+1, c), (r-1, c), (r, c+1), (r, c-1)]]\n",
    "\n",
    "# set seed\n",
    "r0, c0 = Rc+2, Rc+2\n",
    "\n",
    "r, c = r0, c0\n",
    "plane[r][c] = 1\n",
    "\n",
    "# define border padding\n",
    "plane[0:2, :] = 2\n",
    "plane[-2:, :] = 2\n",
    "plane[:, 0:2] = 2\n",
    "plane[:, -2:] = 2\n",
    "\n",
    "i = 0\n",
    "while True:    \n",
    "    R = min(max(np.sqrt(((s:=np.where(plane==1))[0]-r0)**2 + (s[1]-c0)**2))+5, Rc)\n",
    "    r, c = int(R*np.cos(theta:=2*np.pi*np.random.rand())+c0), int(R*np.sin(theta)+r0)\n",
    "\n",
    "    neighbors = get_neighbors(r, c)\n",
    "    while 2 not in neighbors:\n",
    "        if 1 in neighbors:\n",
    "            if np.random.rand() < S:\n",
    "                plane[r][c] = 1\n",
    "                i += 1\n",
    "                break\n",
    "\n",
    "        # do a random walk\n",
    "        if np.random.rand() < 0.5:\n",
    "            r += np.random.choice([-1, 1])\n",
    "        else:\n",
    "            c += np.random.choice([-1, 1])\n",
    "        neighbors = get_neighbors(r, c)\n",
    "\n",
    "    if plane[r][c]==1 and (2 in get_neighbors(r, c) or np.sqrt((r-r0)**2+(c-c0)**2) >= Rc):\n",
    "        print(\"Hit border\")\n",
    "        break\n",
    "    \n",
    "    if i >= Np:\n",
    "        print(\"Spawned required number of particles\")\n",
    "        break"
   ]
  },
  {
   "cell_type": "code",
   "execution_count": null,
   "metadata": {},
   "outputs": [],
   "source": [
    "plane[np.where(plane==2)] = 0\n",
    "plt.imshow(plane, cmap='afmhot')\n",
    "plt.axis('off')\n",
    "# plt.savefig('plane.png', bbox_inches='tight', dpi=800)\n",
    "plt.show()\n"
   ]
  }
 ],
 "metadata": {
  "kernelspec": {
   "display_name": "base",
   "language": "python",
   "name": "python3"
  },
  "language_info": {
   "codemirror_mode": {
    "name": "ipython",
    "version": 3
   },
   "file_extension": ".py",
   "mimetype": "text/x-python",
   "name": "python",
   "nbconvert_exporter": "python",
   "pygments_lexer": "ipython3",
   "version": "3.9.13"
  }
 },
 "nbformat": 4,
 "nbformat_minor": 2
}
